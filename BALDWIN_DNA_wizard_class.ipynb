{
 "cells": [
  {
   "cell_type": "markdown",
   "id": "c33f7d61-3af1-45c4-b733-ab23210f5138",
   "metadata": {},
   "source": [
    "# A. Make a class called seq \n",
    "\n",
    "## This class should accept the following attributes:\n",
    "### name, organism, sequence, and type. When making an isntance of seq, the input for name will be a string (e.g. 'RAS_G12D') the input for organism will be a string (e.x. 'human'), the input for sequence will be a DNA, RNA, or protein sequence (e.g. 'ATCGAAATC') and the type will be either 'DNA', 'RNA', or 'Protein'\n",
    "\n",
    "## This class should have three methods: \n",
    "### 1. info -this should print the name, type, organism, and sequence of the instance\n",
    "### 2. length -this should count the length of the sequence string\n",
    "### 3. fasta_out -this should write the name, organism, type, and sequence as a fasta file. "
   ]
  },
  {
   "cell_type": "code",
   "execution_count": 17,
   "id": "7f235639-4e6e-45ac-83bd-c9d22dd38de0",
   "metadata": {},
   "outputs": [],
   "source": [
    "# call the class seq\n",
    "class seq:\n",
    "    def __init__(self, name, organism, sequence, type):\n",
    "        self.name = name\n",
    "        self.organism = organism\n",
    "        self.sequence = sequence\n",
    "        self.type = type\n",
    "    # Call instance attributes\n",
    "    \n",
    "    # define the info function \n",
    "    def info(self):\n",
    "        print(self.name)\n",
    "        print(self.organism)\n",
    "        print(self.sequence)\n",
    "        print(self.type)\n",
    "        \n",
    "    # define the length function\n",
    "    def length(self):\n",
    "        length = len(self.sequence)\n",
    "        print(length)\n",
    "    \n",
    "    #define the fasta_out function. \n",
    "    # write to a file using the sequence name as part of the file name\n",
    "    # I have written most of the code for the fasta_out function,\n",
    "    # but you need to add something. What is missing?\n",
    "    # this url may be helpful https://www.w3schools.com/python/python_file_write.asp \n",
    "    def fasta_out(self):\n",
    "        f = open(\"{}.fa\".format(self.name), \"w\")\n",
    "        f.write(\">\" + self.name + \"_\" + self.organism + \"_\" + self.type + \"\\n\" + self.sequence)\n",
    "        f.close()\n",
    "       "
   ]
  },
  {
   "cell_type": "markdown",
   "id": "587bd257-f738-49b0-a2d6-0d80cbe50c16",
   "metadata": {},
   "source": [
    "# B. Test your seq class code using the following instance of seq. \n",
    "## The info function should print \"test_DNA, Human, DNA, AGGCTAT\"\n",
    "## the length function should print \"7\". \n",
    "## Go open the fasta file that is made by fasta out. It should be named test_DNA.fa and the contents should look like this:\n",
    "## >test_DNA_Human_DNA\n",
    "## AGGCTAT"
   ]
  },
  {
   "cell_type": "code",
   "execution_count": 18,
   "id": "93b3d472-6f84-418d-9691-22e17b88efb2",
   "metadata": {},
   "outputs": [
    {
     "name": "stdout",
     "output_type": "stream",
     "text": [
      "test_DNA\n",
      "Human\n",
      "AGGCTAT\n",
      "DNA\n",
      "7\n"
     ]
    }
   ],
   "source": [
    "short_seq_test = seq(name = \"test_DNA\", organism = 'Human', sequence = 'AGGCTAT', type = 'DNA')\n",
    "\n",
    "short_seq_test.info()\n",
    "short_seq_test.length()\n",
    "short_seq_test.fasta_out()"
   ]
  },
  {
   "cell_type": "markdown",
   "id": "5bda4d8b-2034-4877-8e24-c92bcbc9e06c",
   "metadata": {},
   "source": [
    "# C. Using super(), make a new child class of seq called protein\n",
    "## This should have a new attribute called size (For instances of protein, size values will be in kDa, like '52')\n",
    "## Overwrite the parent class seq function fasta_out to include the protein size in the first line of the fasta file\n"
   ]
  },
  {
   "cell_type": "code",
   "execution_count": 31,
   "id": "7034e712-0883-4520-b73e-cbd940e7c5b1",
   "metadata": {},
   "outputs": [],
   "source": [
    "# Write the new protein child class here\n",
    "class protein(seq):\n",
    "    def __init__(self, name, organism, sequence, type, size):\n",
    "        super().__init__(name, organism, sequence, type)\n",
    "        self.size = size \n",
    "\n",
    "    def fasta_out(self):\n",
    "        f = open(\"{}.fa\".format(self.name), \"w\")\n",
    "        f.write(self.size + \">\" + self.name + \"_\" + self.organism + \"_\" + self.type + \"\\n\" + self.sequence)\n",
    "        f.close()"
   ]
  },
  {
   "cell_type": "markdown",
   "id": "935be508-378b-44de-81f7-95a75f420e60",
   "metadata": {},
   "source": [
    "# D. Test the modfied fasta_out function on the following instance of protein:\n",
    "\n",
    "## The fasta file should be named NLS.fa and the contents should be:\n",
    "## >NLS_Human_protein_38\n",
    "## CGGPKKKRLVG"
   ]
  },
  {
   "cell_type": "code",
   "execution_count": 32,
   "id": "cb5aa932-23b1-4b05-bf94-d9a14a0abcab",
   "metadata": {},
   "outputs": [],
   "source": [
    "nls_peptide = protein(name = 'NLS', sequence= 'CGGPKKKRLVG', organism = 'Human', type = 'protein', size = '38')\n",
    "\n",
    "nls_peptide.fasta_out()"
   ]
  },
  {
   "cell_type": "markdown",
   "id": "77e6259b-1f8e-4810-95b4-6536fb3af9e0",
   "metadata": {},
   "source": [
    "# Questions (write answers here, 1-2 sentences per question).\n",
    "## 1. Why won't rewriting the fasta_out function for protein affect other child classes that inherit from seq? \n",
    "## This won't effect other classes because it is a separate subclass and the functions from it will not be inherited by other classes. \n",
    "\n",
    "## 2. If we made a child class of protein, which version of the fasta_out method would the new child class have (protein or seq's version)?\n",
    "## The child class of protein would inherit the new version because it inherits from protein (its parent). \n"
   ]
  },
  {
   "cell_type": "markdown",
   "id": "dec8093b-43f7-4e8e-98f2-ac452ad0a756",
   "metadata": {},
   "source": [
    "# E. Using super(), make a child class of seq called nucleotide\n",
    "## Make a new method called gc_content that calculates the percent of letters that are G or C and then prints the gc content percentage\n",
    "\n",
    "## for the gc_content method, there are multiple ways to do it, but you may find this page helpful https://www.geeksforgeeks.org/python-count-occurrences-of-a-character-in-string/ "
   ]
  },
  {
   "cell_type": "code",
   "execution_count": 37,
   "id": "dd5a78f5-a7e8-4cf9-9076-f7ee5b66b545",
   "metadata": {},
   "outputs": [],
   "source": [
    "# Write the new nucleotide class here\n",
    "class nucleotide(seq):\n",
    "    def __init__(self, name, organism, sequence, type):\n",
    "        super().__init__(name, organism, sequence, type)\n",
    "\n",
    "    def gc_content(self):\n",
    "        counter = self.sequence.count('G') + self.sequence.count('C') \n",
    "        percentage = (counter/len(self.sequence))*100\n",
    "        print(percentage) "
   ]
  },
  {
   "cell_type": "markdown",
   "id": "acce4621-75c5-414f-b435-8debf2f4dabb",
   "metadata": {},
   "source": [
    "# F. Test the gc_content method on the following instance of nucleotide. You should get 50.0\n",
    "# Also test the info method- how do these results differ from the modified info method for the protein subclass?\n",
    "## Info was inherited from seq class, which does not include a 'size' option, like it does in the protein subclass."
   ]
  },
  {
   "cell_type": "code",
   "execution_count": 39,
   "id": "87a5f854-6746-4f45-ba10-c4f712aeb78d",
   "metadata": {},
   "outputs": [
    {
     "name": "stdout",
     "output_type": "stream",
     "text": [
      "50.0\n",
      "test_seq\n",
      "Human\n",
      "ATCTCGGTCT\n",
      "DNA\n"
     ]
    }
   ],
   "source": [
    "nucleotide_test_GC = nucleotide(name = 'test_seq', sequence= 'ATCTCGGTCT', organism = 'Human', type = 'DNA')\n",
    "\n",
    "nucleotide_test_GC.gc_content()\n",
    "nucleotide_test_GC.info()"
   ]
  },
  {
   "cell_type": "markdown",
   "id": "c0348be9-5abc-460d-a27f-11c339d0b335",
   "metadata": {},
   "source": [
    "# G. Using super(),make \"Grandchild classes\" DNA and RNA, which will be child classes of nucleotide. So in this analogy they would be like \"grandchildren\" of sequence class. Look at the homework instructions pdf for a schematic. "
   ]
  },
  {
   "cell_type": "markdown",
   "id": "82de4b8d-7302-4b63-b4a4-1de33dfb86bd",
   "metadata": {},
   "source": [
    "## Question: before you make the classes, think: which methods from sequence and nucleotide will the new child classes DNA and RNA inherit? \n",
    "### Write the answer here: It should inherit the methods info, length, fasta_out, and gc_content.\n"
   ]
  },
  {
   "cell_type": "markdown",
   "id": "d9293bbc-8cf5-415d-9dc4-44baea3e6e2c",
   "metadata": {},
   "source": [
    "## G.1 For the DNA class, add a method called transcribe to transcribe the DNA to RNA and print the transcribed sequence (aka replace the Ts in the DNA sequence with Us)"
   ]
  },
  {
   "cell_type": "code",
   "execution_count": 40,
   "id": "36b67dd9-5907-4833-bea2-8b5b01336595",
   "metadata": {},
   "outputs": [],
   "source": [
    "# Write the DNA class here\n",
    "class DNA(nucleotide):\n",
    "    def __init__(self, name, organism, sequence, type):\n",
    "        super().__init__(name, organism, sequence, type) \n",
    "    # For the transcribe method\n",
    "    def transcribe(self):\n",
    "        RNA = self.sequence.replace('T', 'U')\n",
    "        print(RNA)\n",
    "    # This site may be helpful https://www.geeksforgeeks.org/python-string-replace/\n"
   ]
  },
  {
   "cell_type": "markdown",
   "id": "dc6b34bd-4327-437b-91a7-5ef0d7217b61",
   "metadata": {},
   "source": [
    "## G.2 Test the DNA method transcribe, and the other methods info and gc_content on the following instance of DNA:"
   ]
  },
  {
   "cell_type": "code",
   "execution_count": 42,
   "id": "0053dc2c-c092-4134-996e-31bbadbb382c",
   "metadata": {},
   "outputs": [
    {
     "name": "stdout",
     "output_type": "stream",
     "text": [
      "AUCUCGGUCU\n",
      "test_seq_H\n",
      "Human\n",
      "ATCTCGGTCT\n",
      "DNA\n",
      "50.0\n"
     ]
    }
   ],
   "source": [
    "DNA_test_H = DNA(name = 'test_seq_H', sequence= 'ATCTCGGTCT', organism = 'Human', type = 'DNA')\n",
    "\n",
    "DNA_test_H.transcribe()\n",
    "DNA_test_H.info()\n",
    "DNA_test_H.gc_content() "
   ]
  },
  {
   "cell_type": "markdown",
   "id": "ba6c55a6-f9a7-4834-9fe0-0c130f6c26fd",
   "metadata": {},
   "source": [
    "## G.3 For the RNA class, add a method called start that will print the index of the start codon (AUG) in a RNA sequence "
   ]
  },
  {
   "cell_type": "code",
   "execution_count": 52,
   "id": "39afc11f-1ce0-4d65-97a5-ab7da1b10ac0",
   "metadata": {},
   "outputs": [],
   "source": [
    "# Write the RNA class here\n",
    "class RNA(nucleotide):\n",
    "    def __init__(self, name, organism, sequence, type):\n",
    "        super().__init__(name, organism, sequence, type)\n",
    "   # For start method. \n",
    "    def start(self):\n",
    "        print(self.sequence.find('AUG')) \n",
    "\n",
    "    #This site may be helpful https://www.geeksforgeeks.org/python-string-find/ "
   ]
  },
  {
   "cell_type": "markdown",
   "id": "8d688da2-c345-4890-97f4-e1cc54c52d53",
   "metadata": {},
   "source": [
    "## G.4 Test the method start and gc_content on the following instance of RNA:\n",
    "### For the results from start, you should get 3, and for gc_content you should get 53.57...."
   ]
  },
  {
   "cell_type": "code",
   "execution_count": 53,
   "id": "7f714dfe-1a54-47b2-9afa-2bc630e9e6f6",
   "metadata": {},
   "outputs": [
    {
     "name": "stdout",
     "output_type": "stream",
     "text": [
      "3\n",
      "53.57142857142857\n"
     ]
    }
   ],
   "source": [
    "RNA_test_H = RNA(name = 'test_seq_H', sequence= 'CCGAUGCGCGCAGCUACGUAGCAAAAAA', organism = 'Human', type = 'RNA')\n",
    "\n",
    "RNA_test_H.start()\n",
    "RNA_test_H.gc_content()"
   ]
  },
  {
   "cell_type": "code",
   "execution_count": null,
   "id": "b6cfe317-bf23-4744-90fb-49054f764ec1",
   "metadata": {},
   "outputs": [],
   "source": []
  }
 ],
 "metadata": {
  "kernelspec": {
   "display_name": "Python 3 (ipykernel)",
   "language": "python",
   "name": "python3"
  },
  "language_info": {
   "codemirror_mode": {
    "name": "ipython",
    "version": 3
   },
   "file_extension": ".py",
   "mimetype": "text/x-python",
   "name": "python",
   "nbconvert_exporter": "python",
   "pygments_lexer": "ipython3",
   "version": "3.9.18"
  }
 },
 "nbformat": 4,
 "nbformat_minor": 5
}
